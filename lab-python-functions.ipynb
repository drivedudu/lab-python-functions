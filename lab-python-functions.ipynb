{
 "cells": [
  {
   "cell_type": "markdown",
   "id": "25d7736c-ba17-4aff-b6bb-66eba20fbf4e",
   "metadata": {},
   "source": [
    "# Lab | Functions"
   ]
  },
  {
   "cell_type": "markdown",
   "id": "0b6a3dc0-a8c9-4cae-a45c-c32042f185ba",
   "metadata": {
    "tags": []
   },
   "source": [
    "## Exercise: Managing Customer Orders with Functions\n",
    "\n",
    "In the previous exercise, you improved the code for managing customer orders by using loops and flow control. Now, let's take it a step further and refactor the code by introducing functions.\n",
    "\n",
    "Follow the steps below to complete the exercise:\n",
    "\n",
    "1. Define a function named `initialize_inventory` that takes `products` as a parameter. Inside the function, implement the code for initializing the inventory dictionary using a loop and user input.\n",
    "\n",
    "2. Define a function named `get_customer_orders` that takes no parameters. Inside the function, implement the code for prompting the user to enter the product names using a loop. The function should return the `customer_orders` set.\n",
    "\n",
    "3. Define a function named `update_inventory` that takes `customer_orders` and `inventory` as parameters. Inside the function, implement the code for updating the inventory dictionary based on the customer orders.\n",
    "\n",
    "4. Define a function named `calculate_order_statistics` that takes `customer_orders` and `products` as parameters. Inside the function, implement the code for calculating the order statistics (total products ordered, and percentage of unique products ordered). The function should return these values.\n",
    "\n",
    "5. Define a function named `print_order_statistics` that takes `order_statistics` as a parameter. Inside the function, implement the code for printing the order statistics.\n",
    "\n",
    "6. Define a function named `print_updated_inventory` that takes `inventory` as a parameter. Inside the function, implement the code for printing the updated inventory.\n",
    "\n",
    "7. Call the functions in the appropriate sequence to execute the program and manage customer orders.\n",
    "\n",
    "Hints for functions:\n",
    "\n",
    "- Consider the input parameters required for each function and their return values.\n",
    "- Utilize function parameters and return values to transfer data between functions.\n",
    "- Test your functions individually to ensure they work correctly..\n",
    "\n",
    "\n"
   ]
  },
  {
   "cell_type": "code",
   "execution_count": 22,
   "id": "98d2022e-7082-4d28-be0e-a55ddc4a23c2",
   "metadata": {},
   "outputs": [],
   "source": [
    "products = [\"t-shirt\", \"mug\", \"hat\", \"book\", \"keychain\"]"
   ]
  },
  {
   "cell_type": "code",
   "execution_count": 23,
   "id": "fc71ac83-570e-46e0-8d07-91202848fe4f",
   "metadata": {},
   "outputs": [],
   "source": [
    "def initialize_inventory(products):\n",
    "    inventory = dict() \n",
    "    for stock in products:\n",
    "        stock_qtt = int(input(f\"How many {stock} is avaliable: \"))\n",
    "        inventory[stock] = stock_qtt\n",
    "        print()\n",
    "    return inventory\n"
   ]
  },
  {
   "cell_type": "code",
   "execution_count": 24,
   "id": "884674ba-2ce3-49c8-b824-71142499c745",
   "metadata": {},
   "outputs": [],
   "source": [
    "def get_customer_orders():\n",
    "    customer_orders = set()\n",
    "    product_input = ', '.join(products)\n",
    "    while True:\n",
    "        print(f\"our products {product_input}\")\n",
    "        orders_cust = input(f\"Please, Do your order? or stop type no: \")\n",
    "        print()\n",
    "        if orders_cust == 'no':\n",
    "            break\n",
    "        if orders_cust in products:\n",
    "          customer_orders.add(orders_cust)\n",
    "    return customer_orders "
   ]
  },
  {
   "cell_type": "code",
   "execution_count": 30,
   "id": "dac63761-98df-43e0-aa44-b843f104ad72",
   "metadata": {},
   "outputs": [],
   "source": [
    "def update_inventory(customer_orders,inventory):\n",
    "    for update in customer_orders:\n",
    "        if inventory[update] > 0:\n",
    "           inventory[update] = inventory.get(update) - 1\n",
    "        else:\n",
    "            print(f'Cannot order {update}. Out of stock!')"
   ]
  },
  {
   "cell_type": "code",
   "execution_count": 26,
   "id": "1c69af3e-8733-4d35-99a8-865882ae8085",
   "metadata": {},
   "outputs": [],
   "source": [
    "def calculate_order_statistics(customer_orders, products):\n",
    "    total_perct = (len(customer_orders)/len(products) * 100)\n",
    "    order_status = (len(customer_orders), total_perct)\n",
    "    return order_status"
   ]
  },
  {
   "cell_type": "code",
   "execution_count": 27,
   "id": "b1145081-bad7-4cbd-9b46-3c1ae448b596",
   "metadata": {},
   "outputs": [],
   "source": [
    "def print_order_statistics(order_statistics):\n",
    "    print(\"Customer orders:\", \", \".join(customer_orders))\n",
    "    print()\n",
    "    print(\"Order Statistics:\")\n",
    "    print(\"Total Products Ordered: \" + str(order_statistics[0]))\n",
    "    print(f\"Percentage of Products Ordered:{order_statistics[1]}%\")\n",
    "    print()\n",
    "    "
   ]
  },
  {
   "cell_type": "code",
   "execution_count": 34,
   "id": "ba255895-b64f-4260-ab9c-9a80062d9237",
   "metadata": {},
   "outputs": [],
   "source": [
    "def print_updated_inventory(inventory):\n",
    "    for name, stock in inventory.items():\n",
    "        print(f\"{name} stock: {stock}\")\n",
    " "
   ]
  },
  {
   "cell_type": "code",
   "execution_count": null,
   "id": "76c64685-f624-4cdc-8353-d65876615315",
   "metadata": {},
   "outputs": [],
   "source": [
    "inventory = initialize_inventory(products)\n",
    "customer_orders = get_customer_orders()\n",
    "update_inventory(customer_orders,inventory)\n",
    "order_statistics = calculate_order_statistics(customer_orders, products)\n",
    "print_order_statistics(order_statistics)\n",
    "print_updated_inventory(inventory)"
   ]
  },
  {
   "cell_type": "code",
   "execution_count": null,
   "id": "d04abbd8-7e31-47d5-971f-44417f5c51d3",
   "metadata": {},
   "outputs": [],
   "source": []
  }
 ],
 "metadata": {
  "kernelspec": {
   "display_name": "Python 3 (ipykernel)",
   "language": "python",
   "name": "python3"
  },
  "language_info": {
   "codemirror_mode": {
    "name": "ipython",
    "version": 3
   },
   "file_extension": ".py",
   "mimetype": "text/x-python",
   "name": "python",
   "nbconvert_exporter": "python",
   "pygments_lexer": "ipython3",
   "version": "3.11.7"
  }
 },
 "nbformat": 4,
 "nbformat_minor": 5
}
